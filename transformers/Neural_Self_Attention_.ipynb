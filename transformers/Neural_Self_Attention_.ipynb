{
  "cells": [
    {
      "cell_type": "markdown",
      "metadata": {
        "id": "0XQ6NsIuDtgr"
      },
      "source": [
        "# Neural Self-Attention\n",
        "\n",
        "<a rel=\"license\" href=\"http://creativecommons.org/licenses/by-nc-sa/4.0/\"><img alt=\"Creative Commons License\" align=\"left\" src=\"https://i.creativecommons.org/l/by-nc-sa/4.0/80x15.png\" /></a>&nbsp;| Dennis G. Wilson<br> https://supaerodatascience.github.io/deep-learning/\n",
        "\n",
        "\n",
        "Based on [medium article](https://towardsdatascience.com/illustrated-self-attention-2d627e33b20a) by [Raimi Karim](https://towardsdatascience.com/@remykarem)\n",
        "\n",
        "Colab version by [Manuel Romero](https://twitter.com/mrm8488)\n",
        "\n",
        "Additional illustrations by [Jay Alammar](https://jalammar.github.io/illustrated-transformer/)"
      ]
    },
    {
      "cell_type": "markdown",
      "metadata": {
        "id": "4tYtjfCEKUhJ"
      },
      "source": [
        "## Background\n",
        "\n",
        "Attention modules were first introduced in neural networks as a way to index the latent space of a recurrent network, although similar ideas were used in Neural Turing Machines to index an external memory. The idea in both is the same: a mask which specifies which part of a sequence to pay **attention** to.\n",
        "\n",
        "+ Alex Graves, Greg Wayne, and Ivo Danihelka. \"Neural turing machines.\" CoRR, abs/1410.5401, 2014. [pdf](https://arxiv.org/pdf/1410.5401.pdf)\n",
        "\n",
        "+ Bahdanau, Dzmitry, Kyung Hyun Cho, and Yoshua Bengio. \"Neural machine translation by jointly learning to align and translate.\" 3rd International Conference on Learning Representations, ICLR 2015. [pdf](https://arxiv.org/pdf/1409.0473.pdf)\n"
      ]
    },
    {
      "cell_type": "markdown",
      "metadata": {
        "id": "nYace5LeMjTq"
      },
      "source": [
        "![Self-attention example](https://jalammar.github.io/images/t/transformer_self-attention_visualization.png)"
      ]
    },
    {
      "cell_type": "markdown",
      "metadata": {
        "id": "0ObDFoE2KUnj"
      },
      "source": [
        "While originally used as part of recurrent or convolutional networks, Transformer networks rely entirely on attention modules to analyze sequences. Specifically, they use self-attention, where an entire sequence is presented for analysis. A self-attention module takes in n inputs, and returns n outputs. What happens in this module? Put simply, the self-attention mechanism allows the inputs to interact with each other (“self”) and find out who they should pay more attention to (“attention”). The outputs are aggregates of these interactions and attention scores.\n",
        "\n",
        "+ Vaswani, Ashish, et al. \"Attention is all you need.\" Advances in Neural Information Processing Systems 30, 2017. [pdf](https://proceedings.neurips.cc/paper/2017/file/3f5ee243547dee91fbd053c1c4a845aa-Paper.pdf)"
      ]
    },
    {
      "cell_type": "markdown",
      "metadata": {
        "id": "PmelXHYHNK0t"
      },
      "source": [
        "A self-attention head has three weight matrices (represented as fully-connected NN layers) which compute a **query**, **key**, and **value** per input. The key and values can be though of as a dictionary the network has learned - for each key, it will save associations with the list of possible vaues. In a language model, this is often associated words, either based on order or context. The query is similar to the key, but it is for one input at a time, while the key is calculated over all inputs. The query will be used to calculate a score based on each key to find keys which have similar values. The score then weights the value vectors to output relevant values corresponding to each input."
      ]
    },
    {
      "cell_type": "markdown",
      "metadata": {
        "id": "ZqaZmsgNOiyX"
      },
      "source": [
        "![Query, key and value](https://jalammar.github.io/images/t/transformer_self_attention_vectors.png)"
      ]
    },
    {
      "cell_type": "markdown",
      "metadata": {
        "id": "VAs7EotAO7Xh"
      },
      "source": [
        "The following animation illustrates the whole process of the self-attention head. A sequence of input tokens are used to compute keys and values, which are then compared with each query, calculated per input. For each query, the scores of all keys are calculated and then used to weight the sum of values, resulting in an output value vector per input."
      ]
    },
    {
      "cell_type": "markdown",
      "metadata": {
        "id": "U76qWlrbOmx7"
      },
      "source": [
        "![texto alternativo](https://miro.medium.com/max/1973/1*_92bnsMJy8Bl539G4v93yg.gif)"
      ]
    },
    {
      "cell_type": "markdown",
      "metadata": {
        "id": "SDMmHAaSTE6P"
      },
      "source": [
        "Following, we are going to explain and implement:\n",
        "1. Prepare inputs\n",
        "2. Initialise weights\n",
        "3. Derive key, query and value\n",
        "4. Calculate attention scores for Input 1\n",
        "5. Calculate softmax\n",
        "6. Multiply scores with values\n",
        "7. Sum weighted values to get Output 1\n",
        "8. Repeat steps 4–7 for Input 2 & Input 3"
      ]
    },
    {
      "cell_type": "code",
      "execution_count": 5,
      "metadata": {
        "id": "u1UxPJlHBVmS"
      },
      "outputs": [],
      "source": [
        "import torch"
      ]
    },
    {
      "cell_type": "markdown",
      "metadata": {
        "id": "ENdzUZqSBsiB"
      },
      "source": [
        "### Step 1: Prepare inputs\n",
        "\n",
        "In text-based models, an encoding matrix is used to turn tokens into a specific encoding, often floating-point based with high dimensionality (768 for example.) For this tutorial, for the sake of simplicity, we use 3 inputs, each with dimension 4, with an integer encoding.\n",
        "\n",
        "![texto alternativo](https://miro.medium.com/max/1973/1*hmvdDXrxhJsGhOQClQdkBA.png)\n"
      ]
    },
    {
      "cell_type": "code",
      "execution_count": 6,
      "metadata": {
        "colab": {
          "base_uri": "https://localhost:8080/"
        },
        "id": "jKYrJsljBhnv",
        "outputId": "513f953d-2c15-4f7f-9b4b-1410ebcea02d"
      },
      "outputs": [
        {
          "output_type": "execute_result",
          "data": {
            "text/plain": [
              "tensor([[1., 0., 1., 0.],\n",
              "        [0., 2., 0., 2.],\n",
              "        [1., 1., 1., 1.]])"
            ]
          },
          "metadata": {},
          "execution_count": 6
        }
      ],
      "source": [
        "x = [\n",
        "  [1, 0, 1, 0], # Input 1\n",
        "  [0, 2, 0, 2], # Input 2\n",
        "  [1, 1, 1, 1]  # Input 3\n",
        " ]\n",
        "x = torch.tensor(x, dtype=torch.float32)\n",
        "x"
      ]
    },
    {
      "cell_type": "markdown",
      "metadata": {
        "id": "DZ96EoE1Bvat"
      },
      "source": [
        "### Step 2: Initialise weights\n",
        "\n",
        "Every input must have three representations (see diagram below). These representations are called **key** (orange), **query** (red), and **value** (purple). For this example, let’s take that we want these representations to have a dimension of 3. Because every input has a dimension of 4, this means each set of the weights must have a shape of 4×3.\n",
        "\n",
        "![texto del enlace](https://miro.medium.com/max/1975/1*VPvXYMGjv0kRuoYqgFvCag.gif)"
      ]
    },
    {
      "cell_type": "code",
      "execution_count": 7,
      "metadata": {
        "colab": {
          "base_uri": "https://localhost:8080/"
        },
        "id": "jUTNr15JBkSG",
        "outputId": "ce5080da-6f88-46ab-8199-a243e82edb2c"
      },
      "outputs": [
        {
          "output_type": "stream",
          "name": "stdout",
          "text": [
            "Weights for key: \n",
            " tensor([[0., 0., 1.],\n",
            "        [1., 1., 0.],\n",
            "        [0., 1., 0.],\n",
            "        [1., 1., 0.]])\n",
            "Weights for query: \n",
            " tensor([[1., 0., 1.],\n",
            "        [1., 0., 0.],\n",
            "        [0., 0., 1.],\n",
            "        [0., 1., 1.]])\n",
            "Weights for value: \n",
            " tensor([[0., 2., 0.],\n",
            "        [0., 3., 0.],\n",
            "        [1., 0., 3.],\n",
            "        [1., 1., 0.]])\n"
          ]
        }
      ],
      "source": [
        "w_key = [\n",
        "  [0, 0, 1],\n",
        "  [1, 1, 0],\n",
        "  [0, 1, 0],\n",
        "  [1, 1, 0]\n",
        "]\n",
        "w_query = [\n",
        "  [1, 0, 1],\n",
        "  [1, 0, 0],\n",
        "  [0, 0, 1],\n",
        "  [0, 1, 1]\n",
        "]\n",
        "w_value = [\n",
        "  [0, 2, 0],\n",
        "  [0, 3, 0],\n",
        "  [1, 0, 3],\n",
        "  [1, 1, 0]\n",
        "]\n",
        "w_key = torch.tensor(w_key, dtype=torch.float32)\n",
        "w_query = torch.tensor(w_query, dtype=torch.float32)\n",
        "w_value = torch.tensor(w_value, dtype=torch.float32)\n",
        "\n",
        "print(\"Weights for key: \\n\", w_key)\n",
        "print(\"Weights for query: \\n\", w_query)\n",
        "print(\"Weights for value: \\n\", w_value)"
      ]
    },
    {
      "cell_type": "markdown",
      "metadata": {
        "id": "8pr9XZF9X_Ed"
      },
      "source": [
        "Note: *In a neural network setting, these weights are usually small numbers, initialised randomly using an appropriate random distribution like Gaussian, Xavier and Kaiming distributions.*"
      ]
    },
    {
      "cell_type": "markdown",
      "metadata": {
        "id": "UxGT5awVB1Xw"
      },
      "source": [
        "### Step 3: Derive key, query and value\n",
        "\n",
        "Now that we have the three sets of weights, let’s actually obtain the **key**, **query** and **value** representations for every input."
      ]
    },
    {
      "cell_type": "markdown",
      "metadata": {
        "id": "VQwhDIi7aGXp"
      },
      "source": [
        "Obtaining the keys:\n",
        "```\n",
        "               [0, 0, 1]\n",
        "[1, 0, 1, 0]   [1, 1, 0]   [0, 1, 1]\n",
        "[0, 2, 0, 2] x [0, 1, 0] = [4, 4, 0]\n",
        "[1, 1, 1, 1]   [1, 1, 0]   [2, 3, 1]\n",
        "```\n",
        "![texto alternativo](https://miro.medium.com/max/1975/1*dr6NIaTfTxEWzxB2rc0JWg.gif)"
      ]
    },
    {
      "cell_type": "markdown",
      "metadata": {
        "id": "Qi0EblXTamFz"
      },
      "source": [
        "Obtaining the values:\n",
        "```\n",
        "               [0, 2, 0]\n",
        "[1, 0, 1, 0]   [0, 3, 0]   [1, 2, 3]\n",
        "[0, 2, 0, 2] x [1, 0, 3] = [2, 8, 0]\n",
        "[1, 1, 1, 1]   [1, 1, 0]   [2, 6, 3]\n",
        "```\n",
        "![texto alternativo](https://miro.medium.com/max/1975/1*5kqW7yEwvcC0tjDOW3Ia-A.gif)\n"
      ]
    },
    {
      "cell_type": "markdown",
      "metadata": {
        "id": "GTp2izu1bLNq"
      },
      "source": [
        "Obtaining the querys:\n",
        "```\n",
        "               [1, 0, 1]\n",
        "[1, 0, 1, 0]   [1, 0, 0]   [1, 0, 2]\n",
        "[0, 2, 0, 2] x [0, 0, 1] = [2, 2, 2]\n",
        "[1, 1, 1, 1]   [0, 1, 1]   [2, 1, 3]\n",
        "```\n",
        "![texto alternativo](https://miro.medium.com/max/1975/1*wO_UqfkWkv3WmGQVHvrMJw.gif)"
      ]
    },
    {
      "cell_type": "markdown",
      "metadata": {
        "id": "qegb9M0KbnRK"
      },
      "source": [
        "Notes: *Notes\n",
        "In practice, a bias vector may be added to the product of matrix multiplication.*"
      ]
    },
    {
      "cell_type": "code",
      "execution_count": 8,
      "metadata": {
        "colab": {
          "base_uri": "https://localhost:8080/"
        },
        "id": "rv2NXynOB7oG",
        "outputId": "f263412e-9aef-4ab7-f865-59795136346c"
      },
      "outputs": [
        {
          "output_type": "stream",
          "name": "stdout",
          "text": [
            "Keys: \n",
            " tensor([[0., 1., 1.],\n",
            "        [4., 4., 0.],\n",
            "        [2., 3., 1.]])\n",
            "Querys: \n",
            " tensor([[1., 0., 2.],\n",
            "        [2., 2., 2.],\n",
            "        [2., 1., 3.]])\n",
            "Values: \n",
            " tensor([[1., 2., 3.],\n",
            "        [2., 8., 0.],\n",
            "        [2., 6., 3.]])\n"
          ]
        }
      ],
      "source": [
        "keys = torch.matmul(x, w_key)\n",
        "querys = torch.matmul(x, w_query)\n",
        "values = torch.matmul(x, w_value)\n",
        "\n",
        "print(\"Keys: \\n\", keys)\n",
        "# tensor([[0., 1., 1.],\n",
        "#         [4., 4., 0.],\n",
        "#         [2., 3., 1.]])\n",
        "\n",
        "print(\"Querys: \\n\", querys)\n",
        "# tensor([[1., 0., 2.],\n",
        "#         [2., 2., 2.],\n",
        "#         [2., 1., 3.]])\n",
        "print(\"Values: \\n\", values)\n",
        "# tensor([[1., 2., 3.],\n",
        "#         [2., 8., 0.],\n",
        "#         [2., 6., 3.]])"
      ]
    },
    {
      "cell_type": "markdown",
      "metadata": {
        "id": "3pmf0OQhCnD8"
      },
      "source": [
        "### Step 4: Calculate attention scores\n",
        "![texto alternativo](https://miro.medium.com/max/1973/1*u27nhUppoWYIGkRDmYFN2A.gif)\n",
        "\n",
        "To obtain **attention scores**, we start off with taking a dot product between Input 1’s **query** (red) with **all keys** (orange), including itself. Since there are 3 key representations (because we have 3 inputs), we obtain 3 attention scores (blue).\n",
        "\n",
        "```\n",
        "            [0, 4, 2]\n",
        "[1, 0, 2] x [1, 4, 3] = [2, 4, 4]\n",
        "            [1, 0, 1]\n",
        "```\n",
        "Notice that we only use the query from Input 1. Later we’ll work on repeating this same step for the other querys.\n",
        "\n",
        "Note: *The above operation is known as dot product attention, one of the several score functions. Other score functions include scaled dot product and additive/concat.*            "
      ]
    },
    {
      "cell_type": "code",
      "execution_count": 9,
      "metadata": {
        "colab": {
          "base_uri": "https://localhost:8080/"
        },
        "id": "6GDhKEl0Cokw",
        "outputId": "17775323-29b2-40f8-c51f-4ecf7517923d"
      },
      "outputs": [
        {
          "output_type": "stream",
          "name": "stdout",
          "text": [
            "tensor([[ 2.,  4.,  4.],\n",
            "        [ 4., 16., 12.],\n",
            "        [ 4., 12., 10.]])\n"
          ]
        }
      ],
      "source": [
        "attn_scores = torch.matmul(querys, keys.T)\n",
        "print(attn_scores)\n",
        "\n",
        "# tensor([[ 2.,  4.,  4.],  # attention scores from Query 1\n",
        "#         [ 4., 16., 12.],  # attention scores from Query 2\n",
        "#         [ 4., 12., 10.]]) # attention scores from Query 3"
      ]
    },
    {
      "cell_type": "markdown",
      "metadata": {
        "id": "bO3NmnbvCxpX"
      },
      "source": [
        "### Step 5: Calculate softmax\n",
        "![texto alternativo](https://miro.medium.com/max/1973/1*jf__2D8RNCzefwS0TP1Kyg.gif)\n",
        "\n",
        "Take the **softmax** across these **attention scores** (blue).\n",
        "```\n",
        "softmax([2, 4, 4]) = [0.0, 0.5, 0.5]\n",
        "```"
      ]
    },
    {
      "cell_type": "code",
      "execution_count": 10,
      "metadata": {
        "colab": {
          "base_uri": "https://localhost:8080/"
        },
        "id": "PDNzdZHVC1ys",
        "outputId": "b93513d7-66b4-44d5-9961-b89e52f0d93a"
      },
      "outputs": [
        {
          "output_type": "stream",
          "name": "stdout",
          "text": [
            "tensor([[6.3379e-02, 4.6831e-01, 4.6831e-01],\n",
            "        [6.0337e-06, 9.8201e-01, 1.7986e-02],\n",
            "        [2.9539e-04, 8.8054e-01, 1.1917e-01]])\n"
          ]
        }
      ],
      "source": [
        "from torch.nn.functional import softmax\n",
        "\n",
        "attn_scores_softmax = softmax(attn_scores, dim=-1)\n",
        "print(attn_scores_softmax)\n",
        "# # tensor([[6.3379e-02, 4.6831e-01, 4.6831e-01],\n",
        "# #         [6.0337e-06, 9.8201e-01, 1.7986e-02],\n",
        "# #         [2.9539e-04, 8.8054e-01, 1.1917e-01]])\n",
        "\n",
        "# # For readability, approximate the above as follows\n",
        "# attn_scores_softmax = [\n",
        "#   [0.0, 0.5, 0.5],\n",
        "#   [0.0, 1.0, 0.0],\n",
        "#   [0.0, 0.9, 0.1]\n",
        "# ]\n",
        "# attn_scores_softmax = torch.tensor(attn_scores_softmax)\n",
        "# print(attn_scores_softmax)"
      ]
    },
    {
      "cell_type": "markdown",
      "metadata": {
        "id": "iBe71nseDBhb"
      },
      "source": [
        "### Step 6: Multiply scores with values\n",
        "![texto alternativo](https://miro.medium.com/max/1973/1*9cTaJGgXPbiJ4AOCc6QHyA.gif)\n",
        "\n",
        "The softmaxed attention scores for each input (blue) is multiplied with its corresponding **value** (purple). This results in 3 alignment vectors (yellow). In this tutorial, we’ll refer to them as **weighted values**.\n",
        "```\n",
        "1: 0.0 * [1, 2, 3] = [0.0, 0.0, 0.0]\n",
        "2: 0.5 * [2, 8, 0] = [1.0, 4.0, 0.0]\n",
        "3: 0.5 * [2, 6, 3] = [1.0, 3.0, 1.5]\n",
        "```"
      ]
    },
    {
      "cell_type": "code",
      "execution_count": 11,
      "metadata": {
        "colab": {
          "base_uri": "https://localhost:8080/"
        },
        "id": "tNnx-Fx5DFDi",
        "outputId": "5186370e-d6a7-4021-b83f-79837e3dd330"
      },
      "outputs": [
        {
          "output_type": "stream",
          "name": "stdout",
          "text": [
            "tensor([[[6.3379e-02, 1.2676e-01, 1.9014e-01],\n",
            "         [6.0337e-06, 1.2067e-05, 1.8101e-05],\n",
            "         [2.9539e-04, 5.9077e-04, 8.8616e-04]],\n",
            "\n",
            "        [[9.3662e-01, 3.7465e+00, 0.0000e+00],\n",
            "         [1.9640e+00, 7.8561e+00, 0.0000e+00],\n",
            "         [1.7611e+00, 7.0443e+00, 0.0000e+00]],\n",
            "\n",
            "        [[9.3662e-01, 2.8099e+00, 1.4049e+00],\n",
            "         [3.5972e-02, 1.0792e-01, 5.3958e-02],\n",
            "         [2.3834e-01, 7.1501e-01, 3.5750e-01]]])\n"
          ]
        }
      ],
      "source": [
        "weighted_values = values[:,None] * attn_scores_softmax.T[:,:,None]\n",
        "print(weighted_values)"
      ]
    },
    {
      "cell_type": "markdown",
      "metadata": {
        "id": "gU6w0U9ADQIc"
      },
      "source": [
        "### Step 7: Sum weighted values\n",
        "![texto alternativo](https://miro.medium.com/max/1973/1*1je5TwhVAwwnIeDFvww3ew.gif)\n",
        "\n",
        "Take all the **weighted values** (yellow) and sum them element-wise:\n",
        "\n",
        "```\n",
        "  [0.0, 0.0, 0.0]\n",
        "+ [1.0, 4.0, 0.0]\n",
        "+ [1.0, 3.0, 1.5]\n",
        "-----------------\n",
        "= [2.0, 7.0, 1.5]\n",
        "```\n",
        "\n",
        "The resulting vector ```[2.0, 7.0, 1.5]``` (dark green) **is Output 1**, which is based on the **query representation from Input 1** interacting with all other keys, including itself.\n"
      ]
    },
    {
      "cell_type": "markdown",
      "metadata": {
        "id": "P3yNYDUEgAos"
      },
      "source": [
        "### Step 8: Repeat for Input 2 & Input 3\n",
        "![texto alternativo](https://miro.medium.com/max/1973/1*G8thyDVqeD8WHim_QzjvFg.gif)\n",
        "\n",
        "Note: *The dimension of **query** and **key** must always be the same because of the dot product score function. However, the dimension of **value** may be different from **query** and **key**. The resulting output will consequently follow the dimension of **value**.*"
      ]
    },
    {
      "cell_type": "code",
      "execution_count": 12,
      "metadata": {
        "colab": {
          "base_uri": "https://localhost:8080/"
        },
        "id": "R6excNSUDRRj",
        "outputId": "eeee3cd2-0e8f-4080-c6ed-5ad199a75556"
      },
      "outputs": [
        {
          "output_type": "stream",
          "name": "stdout",
          "text": [
            "tensor([[1.9366, 6.6831, 1.5951],\n",
            "        [2.0000, 7.9640, 0.0540],\n",
            "        [1.9997, 7.7599, 0.3584]])\n"
          ]
        }
      ],
      "source": [
        "outputs = weighted_values.sum(dim=0)\n",
        "print(outputs)\n",
        "\n",
        "# tensor([[2.0000, 7.0000, 1.5000],  # Output 1\n",
        "#         [2.0000, 8.0000, 0.0000],  # Output 2\n",
        "#         [2.0000, 7.8000, 0.3000]]) # Output 3"
      ]
    },
    {
      "cell_type": "markdown",
      "metadata": {
        "id": "K4tyrwqqY73n"
      },
      "source": [
        "The following image summarizes the different steps. One step used in practice is to normalize the score, before the softmax, by the square root of the dimension of the key vectors. This is done only to stabilize gradients, as it leads to less drastic differences in the softmax."
      ]
    },
    {
      "cell_type": "markdown",
      "metadata": {
        "id": "LB9XD-eGY2gr"
      },
      "source": [
        "![Self-attention steps](https://jalammar.github.io/images/t/self-attention-output.png)"
      ]
    },
    {
      "cell_type": "markdown",
      "metadata": {
        "id": "4MXKpEpVaCNG"
      },
      "source": [
        "## Exercise 1\n",
        "\n",
        "Implement a division by the square root of the key vector dimensionality. How does this change the softmax values?\n",
        "\n",
        "\n",
        "Ca écrase la valeur se softmax\n"
      ]
    },
    {
      "cell_type": "code",
      "source": [
        "# prompt: Implement a division by the square root of the key vector dimensionality. How does this change the softmax values?\n",
        "\n",
        "import torch\n",
        "from torch.nn.functional import softmax\n",
        "import math\n",
        "\n",
        "x = [\n",
        "  [1, 0, 1, 0], # Input 1\n",
        "  [0, 2, 0, 2], # Input 2\n",
        "  [1, 1, 1, 1]  # Input 3\n",
        " ]\n",
        "x = torch.tensor(x, dtype=torch.float32)\n",
        "\n",
        "w_key = [\n",
        "  [0, 0, 1],\n",
        "  [1, 1, 0],\n",
        "  [0, 1, 0],\n",
        "  [1, 1, 0]\n",
        "]\n",
        "w_query = [\n",
        "  [1, 0, 1],\n",
        "  [1, 0, 0],\n",
        "  [0, 0, 1],\n",
        "  [0, 1, 1]\n",
        "]\n",
        "w_value = [\n",
        "  [0, 2, 0],\n",
        "  [0, 3, 0],\n",
        "  [1, 0, 3],\n",
        "  [1, 1, 0]\n",
        "]\n",
        "w_key = torch.tensor(w_key, dtype=torch.float32)\n",
        "w_query = torch.tensor(w_query, dtype=torch.float32)\n",
        "w_value = torch.tensor(w_value, dtype=torch.float32)\n",
        "\n",
        "keys = torch.matmul(x, w_key)\n",
        "querys = torch.matmul(x, w_query)\n",
        "values = torch.matmul(x, w_value)\n",
        "\n",
        "# Calculate attention scores\n",
        "attn_scores = torch.matmul(querys, keys.T)\n",
        "\n",
        "# Divide by the square root of the key vector dimensionality\n",
        "key_dim = keys.shape[1]\n",
        "attn_scores_scaled = attn_scores / math.sqrt(key_dim)\n",
        "\n",
        "# Calculate softmax\n",
        "attn_scores_softmax_scaled = softmax(attn_scores_scaled, dim=-1)\n",
        "\n",
        "print(\"Original Softmax:\\n\", softmax(attn_scores, dim=-1))\n",
        "print(\"\\nScaled Softmax:\\n\", attn_scores_softmax_scaled)"
      ],
      "metadata": {
        "id": "s91HpgoZ-2kb",
        "outputId": "86578280-281c-4a40-a605-3f390fbc6aff",
        "colab": {
          "base_uri": "https://localhost:8080/"
        }
      },
      "execution_count": 13,
      "outputs": [
        {
          "output_type": "stream",
          "name": "stdout",
          "text": [
            "Original Softmax:\n",
            " tensor([[6.3379e-02, 4.6831e-01, 4.6831e-01],\n",
            "        [6.0337e-06, 9.8201e-01, 1.7986e-02],\n",
            "        [2.9539e-04, 8.8054e-01, 1.1917e-01]])\n",
            "\n",
            "Scaled Softmax:\n",
            " tensor([[1.3613e-01, 4.3194e-01, 4.3194e-01],\n",
            "        [8.9045e-04, 9.0884e-01, 9.0267e-02],\n",
            "        [7.4449e-03, 7.5471e-01, 2.3785e-01]])\n"
          ]
        }
      ]
    },
    {
      "cell_type": "markdown",
      "metadata": {
        "id": "vJVY7YYgaO3T"
      },
      "source": [
        "## Exercise 2\n",
        "\n",
        "Make the first and the third input vectors identical. Then, implement a simple positional encoding scheme to add to the inputs. Verify that the outputs are different when the first and third input vectors are the same."
      ]
    },
    {
      "cell_type": "code",
      "source": [
        "# prompt: Make the first and the third input vectors identical. Then, implement a simple positional encoding scheme to add to the inputs. Verify that the outputs are different when the first and third input vectors are the same.\n",
        "\n",
        "import torch\n",
        "from torch.nn.functional import softmax\n",
        "import math\n",
        "\n",
        "# ... (Existing code remains the same)\n",
        "\n",
        "# Make the first and third input vectors identical\n",
        "x = [\n",
        "  [1, 0, 1, 0], # Input 1\n",
        "  [0, 2, 0, 2], # Input 2\n",
        "  [1, 0, 1, 0]  # Input 3 (now identical to Input 1)\n",
        " ]\n",
        "x = torch.tensor(x, dtype=torch.float32)\n",
        "\n",
        "# Implement a simple positional encoding\n",
        "max_sequence_length = 3 # Assuming three input vectors\n",
        "d_model = 4 # Assuming four dimensional input vectors\n",
        "\n",
        "positional_encoding = torch.zeros(max_sequence_length, d_model)\n",
        "for pos in range(max_sequence_length):\n",
        "  for i in range(0, d_model, 2):\n",
        "      positional_encoding[pos, i] = math.sin(pos / (10000 ** ((2 * i)/d_model)))\n",
        "      positional_encoding[pos, i + 1] = math.cos(pos / (10000 ** ((2 * (i + 1))/d_model)))\n",
        "\n",
        "# Add positional encoding to the input vectors\n",
        "x_encoded = x + positional_encoding\n",
        "\n",
        "# ... (Rest of the code remains the same, using x_encoded instead of x)\n",
        "\n",
        "keys = torch.matmul(x_encoded, w_key)\n",
        "querys = torch.matmul(x_encoded, w_query)\n",
        "values = torch.matmul(x_encoded, w_value)\n",
        "\n",
        "# Calculate attention scores\n",
        "attn_scores = torch.matmul(querys, keys.T)\n",
        "\n",
        "# Divide by the square root of the key vector dimensionality\n",
        "key_dim = keys.shape[1]\n",
        "attn_scores_scaled = attn_scores / math.sqrt(key_dim)\n",
        "\n",
        "# Calculate softmax\n",
        "attn_scores_softmax_scaled = softmax(attn_scores_scaled, dim=-1)\n",
        "\n",
        "weighted_values = values[:,None] * attn_scores_softmax_scaled.T[:,:,None]\n",
        "outputs = weighted_values.sum(dim=0)\n",
        "outputs"
      ],
      "metadata": {
        "id": "f3_DwW46_8cJ",
        "outputId": "e2553a44-df5f-45a2-c283-79961bb0e123",
        "colab": {
          "base_uri": "https://localhost:8080/"
        }
      },
      "execution_count": 14,
      "outputs": [
        {
          "output_type": "execute_result",
          "data": {
            "text/plain": [
              "tensor([[2.9869e+00, 1.3601e+01, 3.9938e-02],\n",
              "        [3.0001e+00, 1.3683e+01, 3.2821e-04],\n",
              "        [2.9974e+00, 1.3667e+01, 8.3387e-03]])"
            ]
          },
          "metadata": {},
          "execution_count": 14
        }
      ]
    },
    {
      "cell_type": "markdown",
      "metadata": {
        "id": "R5g7N4ghbU5-"
      },
      "source": [
        "## Exercise 3\n",
        "\n",
        "Using identical vectors for the first and third inputs, change any of the weight vectors to try to get the first and third outputs to be as close as possible."
      ]
    },
    {
      "cell_type": "code",
      "source": [
        "# prompt: Using identical vectors for the first and third inputs, change any of the weight vectors to try to get the first and third outputs to be as close as possible.\n",
        "\n",
        "import torch\n",
        "from torch.nn.functional import softmax\n",
        "import math\n",
        "\n",
        "# ... (Existing code remains the same)\n",
        "\n",
        "# Make the first and third input vectors identical\n",
        "x = [\n",
        "  [1, 0, 1, 0], # Input 1\n",
        "  [0, 2, 0, 2], # Input 2\n",
        "  [1, 0, 1, 0]  # Input 3 (identical to Input 1)\n",
        " ]\n",
        "x = torch.tensor(x, dtype=torch.float32)\n",
        "\n",
        "# Implement a simple positional encoding (as before)\n",
        "max_sequence_length = 3\n",
        "d_model = 4\n",
        "positional_encoding = torch.zeros(max_sequence_length, d_model)\n",
        "for pos in range(max_sequence_length):\n",
        "  for i in range(0, d_model, 2):\n",
        "      positional_encoding[pos, i] = math.sin(pos / (10000 ** ((2 * i)/d_model)))\n",
        "      positional_encoding[pos, i + 1] = math.cos(pos / (10000 ** ((2 * (i + 1))/d_model)))\n",
        "x_encoded = x + positional_encoding\n",
        "\n",
        "\n",
        "# Modify w_key to try and get outputs 1 and 3 closer\n",
        "w_key = [\n",
        "  [0.1, 0.1, 0.8],  # Slightly adjusted\n",
        "  [1, 1, 0],\n",
        "  [0, 1, 0],\n",
        "  [1, 1, 0]\n",
        "]\n",
        "w_key = torch.tensor(w_key, dtype=torch.float32)\n",
        "\n",
        "# ... (Rest of the code remains the same)\n",
        "keys = torch.matmul(x_encoded, w_key)\n",
        "querys = torch.matmul(x_encoded, w_query)\n",
        "values = torch.matmul(x_encoded, w_value)\n",
        "attn_scores = torch.matmul(querys, keys.T)\n",
        "key_dim = keys.shape[1]\n",
        "attn_scores_scaled = attn_scores / math.sqrt(key_dim)\n",
        "attn_scores_softmax_scaled = softmax(attn_scores_scaled, dim=-1)\n",
        "\n",
        "weighted_values = values[:,None] * attn_scores_softmax_scaled.T[:,:,None]\n",
        "outputs = weighted_values.sum(dim=0)\n",
        "outputs"
      ],
      "metadata": {
        "id": "ZuqnLmM0Asa0",
        "outputId": "2b037b3e-a818-4889-997e-8855c2777229",
        "colab": {
          "base_uri": "https://localhost:8080/"
        }
      },
      "execution_count": 15,
      "outputs": [
        {
          "output_type": "execute_result",
          "data": {
            "text/plain": [
              "tensor([[2.9888e+00, 1.3612e+01, 3.4274e-02],\n",
              "        [3.0001e+00, 1.3683e+01, 3.2692e-04],\n",
              "        [2.9979e+00, 1.3670e+01, 6.7840e-03]])"
            ]
          },
          "metadata": {},
          "execution_count": 15
        }
      ]
    }
  ],
  "metadata": {
    "colab": {
      "provenance": []
    },
    "kernelspec": {
      "display_name": "Python 3 (ipykernel)",
      "language": "python",
      "name": "python3"
    },
    "language_info": {
      "codemirror_mode": {
        "name": "ipython",
        "version": 3
      },
      "file_extension": ".py",
      "mimetype": "text/x-python",
      "name": "python",
      "nbconvert_exporter": "python",
      "pygments_lexer": "ipython3",
      "version": "3.9.18"
    }
  },
  "nbformat": 4,
  "nbformat_minor": 0
}